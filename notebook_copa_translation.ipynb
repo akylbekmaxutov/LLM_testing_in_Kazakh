{
 "cells": [
  {
   "cell_type": "code",
   "execution_count": 1,
   "metadata": {},
   "outputs": [],
   "source": [
    "import xml.etree.ElementTree as ET\n",
    "xml_file_path = \"copa-test.xml\"\n"
   ]
  },
  {
   "cell_type": "code",
   "execution_count": 2,
   "metadata": {},
   "outputs": [],
   "source": [
    "tree = ET.parse(xml_file_path)\n",
    "root = tree.getroot()"
   ]
  },
  {
   "cell_type": "code",
   "execution_count": 33,
   "metadata": {},
   "outputs": [],
   "source": [
    "import numpy as np\n",
    "import pandas as pd\n",
    "\n",
    "num = len(root)\n",
    "items_id = list(np.zeros(num))\n",
    "asks_for = list(np.zeros(num))\n",
    "p_contents = list(np.zeros(num))\n",
    "a1_contents = list(np.zeros(num))\n",
    "a2_contents = list(np.zeros(num))\n",
    "correct_answers = list(np.zeros(num))"
   ]
  },
  {
   "cell_type": "code",
   "execution_count": 34,
   "metadata": {},
   "outputs": [
    {
     "data": {
      "text/plain": [
       "'The item was packaged in bubble wrap.'"
      ]
     },
     "execution_count": 34,
     "metadata": {},
     "output_type": "execute_result"
    }
   ],
   "source": [
    "root[0].find(\"p\").text"
   ]
  },
  {
   "cell_type": "code",
   "execution_count": 35,
   "metadata": {},
   "outputs": [],
   "source": [
    "for i, child in enumerate(root):\n",
    "    items_id[i] = child.attrib['id']\n",
    "    asks_for[i] = child.attrib['asks-for']\n",
    "    p_contents[i] = child.find(\"p\").text\n",
    "    a1_contents[i] = child.find(\"a1\").text\n",
    "    a2_contents[i] = child.find(\"a2\").text\n",
    "    correct_answers[i] = child.attrib['most-plausible-alternative']"
   ]
  },
  {
   "cell_type": "code",
   "execution_count": 51,
   "metadata": {},
   "outputs": [
    {
     "name": "stdout",
     "output_type": "stream",
     "text": [
      "English: The item was packaged in bubble wrap.\n",
      "Kazakh Translation: Элемент көпіршік орамаларына оралды.\n"
     ]
    }
   ],
   "source": [
    "from googletrans import Translator\n",
    "\n",
    "def translate_to_kazakh(text):\n",
    "    translator = Translator()\n",
    "    translated = translator.translate(text, dest='kk')  # 'kk' is the language code for Kazakh\n",
    "    return translated.text\n",
    "\n",
    "# Example usage:\n",
    "english_text = p_contents[0]\n",
    "kazakh_translation = translate_to_kazakh(english_text)\n",
    "print(\"English:\", english_text)\n",
    "print(\"Kazakh Translation:\", kazakh_translation)"
   ]
  },
  {
   "cell_type": "code",
   "execution_count": 46,
   "metadata": {},
   "outputs": [],
   "source": [
    "from tqdm import tqdm\n",
    "\n",
    "def translation_process(texts):\n",
    "    english_texts = texts\n",
    "    kazakh_translations = []\n",
    "\n",
    "    with tqdm(total=len(english_texts), desc=\"Translating\") as pbar:\n",
    "        for text in english_texts:\n",
    "            translated_text = translate_to_kazakh(text)\n",
    "            kazakh_translations.append(translated_text)\n",
    "            pbar.update(1)\n",
    "    \n",
    "    return kazakh_translations"
   ]
  },
  {
   "cell_type": "code",
   "execution_count": 47,
   "metadata": {},
   "outputs": [
    {
     "name": "stderr",
     "output_type": "stream",
     "text": [
      "Translating: 100%|██████████| 500/500 [04:51<00:00,  1.72it/s]\n"
     ]
    }
   ],
   "source": [
    "p_contents_kz = translation_process(p_contents)"
   ]
  },
  {
   "cell_type": "code",
   "execution_count": 48,
   "metadata": {},
   "outputs": [
    {
     "name": "stderr",
     "output_type": "stream",
     "text": [
      "Translating: 100%|██████████| 500/500 [04:40<00:00,  1.78it/s]\n"
     ]
    }
   ],
   "source": [
    "a1_contents_kz = translation_process(a1_contents)"
   ]
  },
  {
   "cell_type": "code",
   "execution_count": 50,
   "metadata": {},
   "outputs": [
    {
     "name": "stderr",
     "output_type": "stream",
     "text": [
      "Translating: 100%|██████████| 500/500 [04:44<00:00,  1.76it/s]\n"
     ]
    }
   ],
   "source": [
    "a2_contents_kz = translation_process(a2_contents)"
   ]
  },
  {
   "cell_type": "code",
   "execution_count": 52,
   "metadata": {},
   "outputs": [],
   "source": [
    "data = {\n",
    "    'items_id' : items_id,\n",
    "    'asks-for': asks_for,\n",
    "    'p_contents_eng' : p_contents,\n",
    "    'a1_contents_eng' : a1_contents,\n",
    "    'a2_contents_eng' : a2_contents,\n",
    "    'correct_answers' : correct_answers,\n",
    "    'p_contents_kz' : p_contents_kz,\n",
    "    'a1_contents_kz' : a1_contents_kz,\n",
    "    'a2_contents_kz' : a2_contents_kz\n",
    "}\n",
    "\n",
    "df = pd.DataFrame(data)"
   ]
  },
  {
   "cell_type": "code",
   "execution_count": 53,
   "metadata": {},
   "outputs": [
    {
     "data": {
      "text/html": [
       "<div>\n",
       "<style scoped>\n",
       "    .dataframe tbody tr th:only-of-type {\n",
       "        vertical-align: middle;\n",
       "    }\n",
       "\n",
       "    .dataframe tbody tr th {\n",
       "        vertical-align: top;\n",
       "    }\n",
       "\n",
       "    .dataframe thead th {\n",
       "        text-align: right;\n",
       "    }\n",
       "</style>\n",
       "<table border=\"1\" class=\"dataframe\">\n",
       "  <thead>\n",
       "    <tr style=\"text-align: right;\">\n",
       "      <th></th>\n",
       "      <th>items_id</th>\n",
       "      <th>asks-for</th>\n",
       "      <th>p_contents_eng</th>\n",
       "      <th>a1_contents_eng</th>\n",
       "      <th>a2_contents_eng</th>\n",
       "      <th>correct_answers</th>\n",
       "      <th>p_contents_kz</th>\n",
       "      <th>a1_contents_kz</th>\n",
       "      <th>a2_contents_kz</th>\n",
       "    </tr>\n",
       "  </thead>\n",
       "  <tbody>\n",
       "    <tr>\n",
       "      <th>0</th>\n",
       "      <td>501</td>\n",
       "      <td>cause</td>\n",
       "      <td>The item was packaged in bubble wrap.</td>\n",
       "      <td>It was fragile.</td>\n",
       "      <td>It was small.</td>\n",
       "      <td>1</td>\n",
       "      <td>Элемент көпіршік орамаларына оралды.</td>\n",
       "      <td>Бұл нәзік болды.</td>\n",
       "      <td>Бұл кішкентай болды.</td>\n",
       "    </tr>\n",
       "    <tr>\n",
       "      <th>1</th>\n",
       "      <td>502</td>\n",
       "      <td>effect</td>\n",
       "      <td>I emptied my pockets.</td>\n",
       "      <td>I retrieved a ticket stub.</td>\n",
       "      <td>I found a weapon.</td>\n",
       "      <td>1</td>\n",
       "      <td>Мен қалтамды босатамын.</td>\n",
       "      <td>Мен билет кестесін шығардым.</td>\n",
       "      <td>Мен қару таптым.</td>\n",
       "    </tr>\n",
       "    <tr>\n",
       "      <th>2</th>\n",
       "      <td>503</td>\n",
       "      <td>effect</td>\n",
       "      <td>Termites invaded the house.</td>\n",
       "      <td>The termites disappeared from the house.</td>\n",
       "      <td>The termites ate through the wood in the house.</td>\n",
       "      <td>2</td>\n",
       "      <td>Термиттер үйді басып алды.</td>\n",
       "      <td>Термиттер үйден жоғалып кетті.</td>\n",
       "      <td>Терметтер үйдегі ағаштан жеді.</td>\n",
       "    </tr>\n",
       "    <tr>\n",
       "      <th>3</th>\n",
       "      <td>504</td>\n",
       "      <td>effect</td>\n",
       "      <td>The travelers reached the border.</td>\n",
       "      <td>The patrol agent checked their passports.</td>\n",
       "      <td>The patrol agent accused them of smuggling.</td>\n",
       "      <td>1</td>\n",
       "      <td>Саяхатшылар шекараға жетті.</td>\n",
       "      <td>Патрульдік агент паспорттарын тексерді.</td>\n",
       "      <td>Патрульдік агент оларды контрабанданың деп айы...</td>\n",
       "    </tr>\n",
       "    <tr>\n",
       "      <th>4</th>\n",
       "      <td>505</td>\n",
       "      <td>cause</td>\n",
       "      <td>The office was closed.</td>\n",
       "      <td>It was a holiday.</td>\n",
       "      <td>It was summer.</td>\n",
       "      <td>1</td>\n",
       "      <td>Кеңсе жабылды.</td>\n",
       "      <td>Бұл мереке болды.</td>\n",
       "      <td>Бұл жаз болды.</td>\n",
       "    </tr>\n",
       "    <tr>\n",
       "      <th>...</th>\n",
       "      <td>...</td>\n",
       "      <td>...</td>\n",
       "      <td>...</td>\n",
       "      <td>...</td>\n",
       "      <td>...</td>\n",
       "      <td>...</td>\n",
       "      <td>...</td>\n",
       "      <td>...</td>\n",
       "      <td>...</td>\n",
       "    </tr>\n",
       "    <tr>\n",
       "      <th>495</th>\n",
       "      <td>996</td>\n",
       "      <td>effect</td>\n",
       "      <td>The runner sensed his competitor gaining on him.</td>\n",
       "      <td>He dropped out of the race.</td>\n",
       "      <td>He sped up his pace.</td>\n",
       "      <td>2</td>\n",
       "      <td>Жүгіруші өзінің бәсекелесін өзіне алғанын сезді.</td>\n",
       "      <td>Ол жарыстан кетті.</td>\n",
       "      <td>Ол өзінің қарқынын көтерді.</td>\n",
       "    </tr>\n",
       "    <tr>\n",
       "      <th>496</th>\n",
       "      <td>997</td>\n",
       "      <td>effect</td>\n",
       "      <td>I thought carefully about the problem.</td>\n",
       "      <td>I asked for advice.</td>\n",
       "      <td>I came up with a solution.</td>\n",
       "      <td>2</td>\n",
       "      <td>Мен проблеманы мұқият ойладым.</td>\n",
       "      <td>Мен кеңес сұрадым.</td>\n",
       "      <td>Мен шешім қабылдадым.</td>\n",
       "    </tr>\n",
       "    <tr>\n",
       "      <th>497</th>\n",
       "      <td>998</td>\n",
       "      <td>effect</td>\n",
       "      <td>The traveler walked on the shaky suspension br...</td>\n",
       "      <td>He felt terrified.</td>\n",
       "      <td>He felt ecstatic.</td>\n",
       "      <td>1</td>\n",
       "      <td>Саяхатшы Шаки аспалы көпірінде жүрді.</td>\n",
       "      <td>Ол қатты қорасты.</td>\n",
       "      <td>Ол экстаздық сезінді.</td>\n",
       "    </tr>\n",
       "    <tr>\n",
       "      <th>498</th>\n",
       "      <td>999</td>\n",
       "      <td>effect</td>\n",
       "      <td>The man anticipated the team's victory.</td>\n",
       "      <td>He met his friends to watch the game.</td>\n",
       "      <td>He made a bet with his friends.</td>\n",
       "      <td>2</td>\n",
       "      <td>Ер адам команданың жеңісін болжады.</td>\n",
       "      <td>Ол достарымен кездесті.</td>\n",
       "      <td>Ол достарымен ставка жасады.</td>\n",
       "    </tr>\n",
       "    <tr>\n",
       "      <th>499</th>\n",
       "      <td>1000</td>\n",
       "      <td>effect</td>\n",
       "      <td>The boy couldn't fall asleep.</td>\n",
       "      <td>He set his alarm clock.</td>\n",
       "      <td>He counted sheep.</td>\n",
       "      <td>2</td>\n",
       "      <td>Бала ұйықтай алмады.</td>\n",
       "      <td>Ол өзінің оятқышын орнатты.</td>\n",
       "      <td>Ол қойларды санады.</td>\n",
       "    </tr>\n",
       "  </tbody>\n",
       "</table>\n",
       "<p>500 rows × 9 columns</p>\n",
       "</div>"
      ],
      "text/plain": [
       "    items_id asks-for                                     p_contents_eng  \\\n",
       "0        501    cause              The item was packaged in bubble wrap.   \n",
       "1        502   effect                              I emptied my pockets.   \n",
       "2        503   effect                        Termites invaded the house.   \n",
       "3        504   effect                  The travelers reached the border.   \n",
       "4        505    cause                             The office was closed.   \n",
       "..       ...      ...                                                ...   \n",
       "495      996   effect   The runner sensed his competitor gaining on him.   \n",
       "496      997   effect             I thought carefully about the problem.   \n",
       "497      998   effect  The traveler walked on the shaky suspension br...   \n",
       "498      999   effect            The man anticipated the team's victory.   \n",
       "499     1000   effect                      The boy couldn't fall asleep.   \n",
       "\n",
       "                               a1_contents_eng  \\\n",
       "0                              It was fragile.   \n",
       "1                   I retrieved a ticket stub.   \n",
       "2     The termites disappeared from the house.   \n",
       "3    The patrol agent checked their passports.   \n",
       "4                            It was a holiday.   \n",
       "..                                         ...   \n",
       "495                He dropped out of the race.   \n",
       "496                        I asked for advice.   \n",
       "497                         He felt terrified.   \n",
       "498      He met his friends to watch the game.   \n",
       "499                    He set his alarm clock.   \n",
       "\n",
       "                                     a2_contents_eng correct_answers  \\\n",
       "0                                      It was small.               1   \n",
       "1                                  I found a weapon.               1   \n",
       "2    The termites ate through the wood in the house.               2   \n",
       "3        The patrol agent accused them of smuggling.               1   \n",
       "4                                     It was summer.               1   \n",
       "..                                               ...             ...   \n",
       "495                             He sped up his pace.               2   \n",
       "496                       I came up with a solution.               2   \n",
       "497                                He felt ecstatic.               1   \n",
       "498                  He made a bet with his friends.               2   \n",
       "499                                He counted sheep.               2   \n",
       "\n",
       "                                        p_contents_kz  \\\n",
       "0                Элемент көпіршік орамаларына оралды.   \n",
       "1                             Мен қалтамды босатамын.   \n",
       "2                          Термиттер үйді басып алды.   \n",
       "3                         Саяхатшылар шекараға жетті.   \n",
       "4                                      Кеңсе жабылды.   \n",
       "..                                                ...   \n",
       "495  Жүгіруші өзінің бәсекелесін өзіне алғанын сезді.   \n",
       "496                    Мен проблеманы мұқият ойладым.   \n",
       "497             Саяхатшы Шаки аспалы көпірінде жүрді.   \n",
       "498               Ер адам команданың жеңісін болжады.   \n",
       "499                              Бала ұйықтай алмады.   \n",
       "\n",
       "                              a1_contents_kz  \\\n",
       "0                           Бұл нәзік болды.   \n",
       "1               Мен билет кестесін шығардым.   \n",
       "2             Термиттер үйден жоғалып кетті.   \n",
       "3    Патрульдік агент паспорттарын тексерді.   \n",
       "4                          Бұл мереке болды.   \n",
       "..                                       ...   \n",
       "495                       Ол жарыстан кетті.   \n",
       "496                       Мен кеңес сұрадым.   \n",
       "497                        Ол қатты қорасты.   \n",
       "498                  Ол достарымен кездесті.   \n",
       "499              Ол өзінің оятқышын орнатты.   \n",
       "\n",
       "                                        a2_contents_kz  \n",
       "0                                 Бұл кішкентай болды.  \n",
       "1                                     Мен қару таптым.  \n",
       "2                       Терметтер үйдегі ағаштан жеді.  \n",
       "3    Патрульдік агент оларды контрабанданың деп айы...  \n",
       "4                                       Бұл жаз болды.  \n",
       "..                                                 ...  \n",
       "495                        Ол өзінің қарқынын көтерді.  \n",
       "496                              Мен шешім қабылдадым.  \n",
       "497                              Ол экстаздық сезінді.  \n",
       "498                       Ол достарымен ставка жасады.  \n",
       "499                                Ол қойларды санады.  \n",
       "\n",
       "[500 rows x 9 columns]"
      ]
     },
     "execution_count": 53,
     "metadata": {},
     "output_type": "execute_result"
    }
   ],
   "source": [
    "df"
   ]
  },
  {
   "cell_type": "code",
   "execution_count": 54,
   "metadata": {},
   "outputs": [],
   "source": [
    "df.to_csv('copa-translated.csv', index=False)"
   ]
  },
  {
   "cell_type": "code",
   "execution_count": null,
   "metadata": {},
   "outputs": [],
   "source": []
  }
 ],
 "metadata": {
  "kernelspec": {
   "display_name": "Python 3",
   "language": "python",
   "name": "python3"
  },
  "language_info": {
   "codemirror_mode": {
    "name": "ipython",
    "version": 3
   },
   "file_extension": ".py",
   "mimetype": "text/x-python",
   "name": "python",
   "nbconvert_exporter": "python",
   "pygments_lexer": "ipython3",
   "version": "3.12.0"
  }
 },
 "nbformat": 4,
 "nbformat_minor": 2
}
